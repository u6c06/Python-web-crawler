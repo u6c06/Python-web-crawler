{
 "cells": [
  {
   "cell_type": "markdown",
   "id": "71cd98e1",
   "metadata": {},
   "source": [
    "# 標題一\n",
    "## 標題二\n",
    "### 標題三\n",
    "#### 標題四\n",
    "##### 標題五\n",
    "###### 標題六\n",
    "內文"
   ]
  },
  {
   "cell_type": "markdown",
   "id": "e8e78877",
   "metadata": {},
   "source": [
    "## Quiz\n",
    "---\n",
    "## 目錄\n",
    "\n",
    "## CH1 AI起源\n",
    "### 1-1 遍地開花的AI應用\n",
    "### 1-2 人工智慧的發展\n",
    "### 1-3 人工智慧@台灣\n",
    "### 1-4 未來的AI生活\n",
    "\n",
    "## CH2 應用篇\n",
    "### 2-1 影像處理\n"
   ]
  },
  {
   "cell_type": "markdown",
   "id": "f93dd162",
   "metadata": {},
   "source": [
    "\n",
    "    1.斜體 *x+y=z*\n",
    "\n",
    "*x+y=z*"
   ]
  },
  {
   "cell_type": "markdown",
   "id": "7d6fb570",
   "metadata": {},
   "source": [
    "    2.粗體 **x**\n",
    "**強調文字**"
   ]
  },
  {
   "cell_type": "markdown",
   "id": "2ff7a271",
   "metadata": {},
   "source": [
    "    3.數學公式 $x^2+2x+1$\n",
    "$x^2+2x+1$"
   ]
  },
  {
   "cell_type": "markdown",
   "id": "d3d8d781",
   "metadata": {},
   "source": [
    "    $2x_1+3X_2^2=5$\n",
    "$2x_1+3X_2^2=5$"
   ]
  },
  {
   "cell_type": "markdown",
   "id": "b628ce2d",
   "metadata": {},
   "source": [
    "    Latex:http://www.sciweavers.org/free-online-latex-equation-editor\n",
    "    數學公式至中\n",
    "$$\\int_a^b f(x)\\,dx$$"
   ]
  },
  {
   "cell_type": "markdown",
   "id": "cbf47e4e",
   "metadata": {},
   "source": [
    "### Quiz\n",
    " $$F=\\sum_{n=1}^{100} (x_n+x_n^2)$$ "
   ]
  },
  {
   "cell_type": "markdown",
   "id": "944b6a32",
   "metadata": {},
   "source": [
    "    $$F=\\sum_{n=1}^{100} (x_n+x_n^2)$$ \n",
    "$$F=\\sum_{n=1}^{100} (x_n+x_n^2)$$ "
   ]
  },
  {
   "cell_type": "markdown",
   "id": "8e490beb",
   "metadata": {},
   "source": [
    "$$f(x)=2x^3+5x+2$$\n",
    "    微分\n",
    "$$\\frac{df(x)}{dx}=6x^2+5$$"
   ]
  },
  {
   "cell_type": "markdown",
   "id": "4fe91615",
   "metadata": {},
   "source": [
    "$$f(x,y)=2x^3+6xy^2+4y+2$$\n",
    "    對x偏微分\n",
    "$$\\frac{\\partial f(x,y)}{\\partial x}=6x^2+6y^2$$\n",
    "    對y偏微分\n",
    "$$\\frac{\\partial f(x,y)}{\\partial y}=12xy+4$$    "
   ]
  },
  {
   "cell_type": "markdown",
   "id": "d83c8849",
   "metadata": {},
   "source": [
    "行內程式字型`git init`"
   ]
  },
  {
   "cell_type": "markdown",
   "id": "1080c445",
   "metadata": {},
   "source": [
    "```\n",
    "print(\"Hello World!\")\n",
    "git init\n",
    "git add\n",
    "git commit\n",
    "```"
   ]
  },
  {
   "cell_type": "markdown",
   "id": "dc0dfa0d",
   "metadata": {},
   "source": [
    "    print(\"Hello World!\")\n",
    "       git init\n",
    "    git add\n",
    "    git commit"
   ]
  },
  {
   "cell_type": "markdown",
   "id": "c38f137a",
   "metadata": {},
   "source": [
    "### Quiz\n",
    "```\n",
    "import os\n",
    "file = \"myFile.txt\"\n",
    "if os.path.exists(file):\n",
    "    os.remove(file)\n",
    "    print(file + \"is deleted.\")\n",
    "else:\n",
    "    print(file + \"file is not found!\")\n",
    "```"
   ]
  },
  {
   "cell_type": "markdown",
   "id": "469eb26b",
   "metadata": {},
   "source": [
    "    *+-:清單,縮排產生下一層清單,例如:\n",
    "* 第一\n",
    "* 第二\n",
    "    * 2.1\n",
    "        * 2.2.1\n",
    "+ 一\n",
    "    + 1.1\n",
    "        + 1.1.1\n",
    "- 一\n",
    "    - 1.1\n",
    "        - 1.1.1"
   ]
  },
  {
   "cell_type": "markdown",
   "id": "f9841d82",
   "metadata": {},
   "source": [
    "### Quiz\n",
    "\n",
    "### 目錄\n",
    "* CH1 AI起源\n",
    "    * 1-1 遍地開花的AI應用\n",
    "    * 1-2 人工智慧的發展\n",
    "* CH2 應用篇\n",
    "    * 2-1 影像處理"
   ]
  },
  {
   "cell_type": "markdown",
   "id": "445d28c3",
   "metadata": {},
   "source": [
    "### 數字編號\n",
    "1. 匯入檔案\n",
    "2. 載入檔案\n",
    "2. HTML\n",
    "4. Pyton"
   ]
  },
  {
   "cell_type": "markdown",
   "id": "d44ed617",
   "metadata": {},
   "source": [
    "### 數字編號\n",
    "1. 匯入檔案\n",
    "    1. 載入檔案\n",
    "    3. HTML\n",
    "4. Pyton"
   ]
  },
  {
   "cell_type": "markdown",
   "id": "67748a5f",
   "metadata": {},
   "source": [
    "### Quiz\n",
    "\n",
    "### 目錄\n",
    "* CH1 AI起源\n",
    "    1. 遍地開花的AI應用\n",
    "    2. 人工智慧的發展\n",
    "* CH2 應用篇\n",
    "    1. 影像處理"
   ]
  },
  {
   "cell_type": "markdown",
   "id": "f35cb83b",
   "metadata": {},
   "source": [
    "    Markdown指令參考資料 https://markdown.tw/"
   ]
  },
  {
   "cell_type": "markdown",
   "id": "f4f397a6",
   "metadata": {},
   "source": []
  }
 ],
 "metadata": {
  "kernelspec": {
   "display_name": "Python 3 (ipykernel)",
   "language": "python",
   "name": "python3"
  },
  "language_info": {
   "codemirror_mode": {
    "name": "ipython",
    "version": 3
   },
   "file_extension": ".py",
   "mimetype": "text/x-python",
   "name": "python",
   "nbconvert_exporter": "python",
   "pygments_lexer": "ipython3",
   "version": "3.7.11"
  }
 },
 "nbformat": 4,
 "nbformat_minor": 5
}
